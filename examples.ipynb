{
 "cells": [
  {
   "cell_type": "code",
   "execution_count": 1,
   "metadata": {
    "scrolled": false
   },
   "outputs": [
    {
     "data": {
      "application/vnd.jupyter.widget-view+json": {
       "model_id": "0bce72dd8fa34db493fde9dccb98e308",
       "version_major": 2,
       "version_minor": 0
      },
      "text/plain": [
       "VBox(children=(HTML(value=\"<b style='font-size: medium'>Make Temporary Set</b><p style='color: #D84141'>Please…"
      ]
     },
     "metadata": {},
     "output_type": "display_data"
    }
   ],
   "source": [
    "import ipymeteovis as imv\n",
    "\n",
    "# make tempset, replace with your own data path\n",
    "imv.make(\"/Users/ep/Workspace/data/BE_NL/rbc_part/NL/HRW/\")"
   ]
  },
  {
   "cell_type": "code",
   "execution_count": 8,
   "metadata": {},
   "outputs": [
    {
     "data": {
      "application/vnd.jupyter.widget-view+json": {
       "model_id": "2e535b162c8b476fac5c820625ed3f53",
       "version_major": 2,
       "version_minor": 0
      },
      "text/plain": [
       "VBox(children=(HTML(value=\"<b style='font-size: medium'>List of Temporary Set</b>\"), GridBox(children=(VBox(ch…"
      ]
     },
     "metadata": {},
     "output_type": "display_data"
    }
   ],
   "source": [
    "# list tempset\n",
    "imv.list()"
   ]
  },
  {
   "cell_type": "code",
   "execution_count": 20,
   "metadata": {},
   "outputs": [
    {
     "data": {
      "application/vnd.jupyter.widget-view+json": {
       "model_id": "de0a5af71add4f598213e7dd6cca98cd",
       "version_major": 2,
       "version_minor": 0
      },
      "text/plain": [
       "VBox(children=(GridBox(children=(Map(center=[51.83665510554452, 5.138099999999999], controls=(ZoomControl(opti…"
      ]
     },
     "metadata": {},
     "output_type": "display_data"
    }
   ],
   "source": [
    "# animation by default\n",
    "v1 = imv.View(3, height=300, zoom=6)\n",
    "v1.show()"
   ]
  },
  {
   "cell_type": "code",
   "execution_count": 21,
   "metadata": {},
   "outputs": [
    {
     "data": {
      "application/vnd.jupyter.widget-view+json": {
       "model_id": "1ecbb8c074b64ec4ab652df8f92c3861",
       "version_major": 2,
       "version_minor": 0
      },
      "text/plain": [
       "VBox(children=(GridBox(children=(Map(center=[51.83665510554452, 5.138099999999999], controls=(ZoomControl(opti…"
      ]
     },
     "metadata": {},
     "output_type": "display_data"
    }
   ],
   "source": [
    "# static average view\n",
    "v2 = imv.View(3, height=300, zoom=6, avg=True)\n",
    "v2.show()"
   ]
  },
  {
   "cell_type": "code",
   "execution_count": 33,
   "metadata": {},
   "outputs": [
    {
     "data": {
      "application/vnd.jupyter.widget-view+json": {
       "model_id": "e5d5f4369a4d45fd9facde00f82acc1a",
       "version_major": 2,
       "version_minor": 0
      },
      "text/plain": [
       "VBox(children=(GridBox(children=(Map(center=[51.83665510554452, 5.138099999999999], controls=(ZoomControl(opti…"
      ]
     },
     "metadata": {},
     "output_type": "display_data"
    }
   ],
   "source": [
    "# superpose views\n",
    "v3 = imv.View(v1, v2, height=300, zoom=6)\n",
    "v3.show()"
   ]
  },
  {
   "cell_type": "code",
   "execution_count": 22,
   "metadata": {},
   "outputs": [
    {
     "data": {
      "application/vnd.jupyter.widget-view+json": {
       "model_id": "693f856cd3234a26b918d1fc30d48c36",
       "version_major": 2,
       "version_minor": 0
      },
      "text/plain": [
       "VBox(children=(GridBox(children=(Map(center=[51.83665510554452, 5.138099999999999], controls=(ZoomControl(opti…"
      ]
     },
     "metadata": {},
     "output_type": "display_data"
    }
   ],
   "source": [
    "# juxtapose views in a grid layout\n",
    "v4 = imv.View(v1, v2, grid=True, link=True, col=2)\n",
    "v4.show()"
   ]
  },
  {
   "cell_type": "code",
   "execution_count": 11,
   "metadata": {},
   "outputs": [
    {
     "data": {
      "application/vnd.jupyter.widget-view+json": {
       "model_id": "1a54491e4ac44a378609ec09f4cf7e84",
       "version_major": 2,
       "version_minor": 0
      },
      "text/plain": [
       "VBox(children=(GridBox(children=(Map(center=[51.01632664642675, 4.603616519404315], controls=(ZoomControl(opti…"
      ]
     },
     "metadata": {},
     "output_type": "display_data"
    }
   ],
   "source": [
    "# a more complex example\n",
    "v5 = imv.View(4, 5, 6, zoom=6)\n",
    "v6 = imv.View(4, 5, 7, zoom=6)\n",
    "v7 = imv.View(v5, v6, col=2, grid=True, link=True)\n",
    "v7.show()"
   ]
  }
 ],
 "metadata": {
  "kernelspec": {
   "display_name": "Python 3",
   "language": "python",
   "name": "python3"
  },
  "language_info": {
   "codemirror_mode": {
    "name": "ipython",
    "version": 3
   },
   "file_extension": ".py",
   "mimetype": "text/x-python",
   "name": "python",
   "nbconvert_exporter": "python",
   "pygments_lexer": "ipython3",
   "version": "3.7.5"
  },
  "pycharm": {
   "stem_cell": {
    "cell_type": "raw",
    "source": [],
    "metadata": {
     "collapsed": false
    }
   }
  }
 },
 "nbformat": 4,
 "nbformat_minor": 4
}